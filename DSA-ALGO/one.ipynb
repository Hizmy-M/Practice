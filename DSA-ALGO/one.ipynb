{
 "cells": [
  {
   "cell_type": "code",
   "execution_count": 1,
   "metadata": {},
   "outputs": [
    {
     "name": "stdout",
     "output_type": "stream",
     "text": [
      "asd\n"
     ]
    }
   ],
   "source": [
    "def name():\n",
    "    print('asd')\n",
    "\n",
    "name()"
   ]
  },
  {
   "cell_type": "code",
   "execution_count": 14,
   "metadata": {},
   "outputs": [
    {
     "name": "stdout",
     "output_type": "stream",
     "text": [
      "[1, 4, 9, 16, 25]\n",
      "[1, 4, 9, 16, 25]\n",
      "[1, 4, 9, 16, 25]\n"
     ]
    }
   ],
   "source": [
    "\n",
    "# Big - O time complexity - O(N) | space complexity - O(N)\n",
    "def handle_arr_1(x):\n",
    "    t = []\n",
    "    for i in x:\n",
    "        i = i ** 2\n",
    "        t.append(i)\n",
    "\n",
    "    return t\n",
    "\n",
    "print(handle_arr_1([1, 2, 3, 4, 5]))\n",
    "\n",
    "# Big - O time complexity - O(N) | space complexity - O(1)\n",
    "def handle_arr(x):\n",
    "    for i in range(len(x)):\n",
    "        x[i] = x[i] ** 2\n",
    "    return x\n",
    "\n",
    "print(handle_arr([1, 2, 3, 4, 5]))\n",
    "\n",
    "\n",
    "\n",
    "# Big - O time complexity - O(N) | space complexity - O(1)\n",
    "def hanlde_ar(x):\n",
    "    return [i ** 2 for i in x]\n",
    "\n",
    "print(hanlde_ar([1, 2, 3, 4, 5]))\n",
    "\n"
   ]
  },
  {
   "cell_type": "code",
   "execution_count": 17,
   "metadata": {},
   "outputs": [
    {
     "data": {
      "text/plain": [
       "6"
      ]
     },
     "execution_count": 17,
     "metadata": {},
     "output_type": "execute_result"
    }
   ],
   "source": [
    "x = [1, 2, 4, 5, 6]\n",
    "x[len(x) - 1]"
   ]
  },
  {
   "cell_type": "code",
   "execution_count": null,
   "metadata": {},
   "outputs": [
    {
     "ename": "TypeError",
     "evalue": "bad operand type for abs(): 'list'",
     "output_type": "error",
     "traceback": [
      "\u001b[0;31m---------------------------------------------------------------------------\u001b[0m",
      "\u001b[0;31mTypeError\u001b[0m                                 Traceback (most recent call last)",
      "Cell \u001b[0;32mIn[58], line 13\u001b[0m\n\u001b[1;32m      4\u001b[0m         \u001b[38;5;28mprint\u001b[39m(lowest)\n\u001b[1;32m     12\u001b[0m x \u001b[38;5;241m=\u001b[39m [\u001b[38;5;241m-\u001b[39m\u001b[38;5;241m4\u001b[39m,\u001b[38;5;241m-\u001b[39m\u001b[38;5;241m2\u001b[39m,\u001b[38;5;241m1\u001b[39m,\u001b[38;5;241m4\u001b[39m,\u001b[38;5;241m8\u001b[39m]\n\u001b[0;32m---> 13\u001b[0m \u001b[38;5;28mprint\u001b[39m(\u001b[43mfindClosestNumber\u001b[49m\u001b[43m(\u001b[49m\u001b[43mx\u001b[49m\u001b[43m)\u001b[49m)\n",
      "Cell \u001b[0;32mIn[58], line 2\u001b[0m, in \u001b[0;36mfindClosestNumber\u001b[0;34m(nums)\u001b[0m\n\u001b[1;32m      1\u001b[0m \u001b[38;5;28;01mdef\u001b[39;00m \u001b[38;5;21mfindClosestNumber\u001b[39m(nums):\n\u001b[0;32m----> 2\u001b[0m     \u001b[38;5;28;01mfor\u001b[39;00m i \u001b[38;5;129;01min\u001b[39;00m \u001b[38;5;28;43mabs\u001b[39;49m\u001b[43m(\u001b[49m\u001b[43mnums\u001b[49m\u001b[43m)\u001b[49m:\n\u001b[1;32m      3\u001b[0m         lowest \u001b[38;5;241m=\u001b[39m \u001b[38;5;28mabs\u001b[39m(nums[\u001b[38;5;241m0\u001b[39m])\n\u001b[1;32m      4\u001b[0m         \u001b[38;5;28mprint\u001b[39m(lowest)\n",
      "\u001b[0;31mTypeError\u001b[0m: bad operand type for abs(): 'list'"
     ]
    }
   ],
   "source": []
  },
  {
   "cell_type": "code",
   "execution_count": 31,
   "metadata": {},
   "outputs": [
    {
     "data": {
      "text/plain": [
       "False"
      ]
     },
     "execution_count": 31,
     "metadata": {},
     "output_type": "execute_result"
    }
   ],
   "source": []
  },
  {
   "cell_type": "code",
   "execution_count": null,
   "metadata": {},
   "outputs": [],
   "source": []
  }
 ],
 "metadata": {
  "kernelspec": {
   "display_name": "practicePython",
   "language": "python",
   "name": "python3"
  },
  "language_info": {
   "codemirror_mode": {
    "name": "ipython",
    "version": 3
   },
   "file_extension": ".py",
   "mimetype": "text/x-python",
   "name": "python",
   "nbconvert_exporter": "python",
   "pygments_lexer": "ipython3",
   "version": "3.8.20"
  }
 },
 "nbformat": 4,
 "nbformat_minor": 2
}
