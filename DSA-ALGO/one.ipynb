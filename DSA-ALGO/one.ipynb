{
 "cells": [
  {
   "cell_type": "code",
   "execution_count": 1,
   "metadata": {},
   "outputs": [
    {
     "name": "stdout",
     "output_type": "stream",
     "text": [
      "asd\n"
     ]
    }
   ],
   "source": [
    "def name():\n",
    "    print('asd')\n",
    "\n",
    "name()"
   ]
  },
  {
   "cell_type": "code",
   "execution_count": 14,
   "metadata": {},
   "outputs": [
    {
     "name": "stdout",
     "output_type": "stream",
     "text": [
      "[1, 4, 9, 16, 25]\n",
      "[1, 4, 9, 16, 25]\n",
      "[1, 4, 9, 16, 25]\n"
     ]
    }
   ],
   "source": [
    "\n",
    "# Big - O time complexity - O(N) | space complexity - O(N)\n",
    "def handle_arr_1(x):\n",
    "    t = []\n",
    "    for i in x:\n",
    "        i = i ** 2\n",
    "        t.append(i)\n",
    "\n",
    "    return t\n",
    "\n",
    "print(handle_arr_1([1, 2, 3, 4, 5]))\n",
    "\n",
    "# Big - O time complexity - O(N) | space complexity - O(1)\n",
    "def handle_arr(x):\n",
    "    for i in range(len(x)):\n",
    "        x[i] = x[i] ** 2\n",
    "    return x\n",
    "\n",
    "print(handle_arr([1, 2, 3, 4, 5]))\n",
    "\n",
    "\n",
    "\n",
    "# Big - O time complexity - O(N) | space complexity - O(1)\n",
    "def hanlde_ar(x):\n",
    "    return [i ** 2 for i in x]\n",
    "\n",
    "print(hanlde_ar([1, 2, 3, 4, 5]))\n",
    "\n"
   ]
  },
  {
   "cell_type": "code",
   "execution_count": 17,
   "metadata": {},
   "outputs": [
    {
     "data": {
      "text/plain": [
       "6"
      ]
     },
     "execution_count": 17,
     "metadata": {},
     "output_type": "execute_result"
    }
   ],
   "source": [
    "x = [1, 2, 4, 5, 6]\n",
    "x[len(x) - 1]"
   ]
  },
  {
   "cell_type": "code",
   "execution_count": 31,
   "metadata": {},
   "outputs": [
    {
     "data": {
      "text/plain": [
       "False"
      ]
     },
     "execution_count": 31,
     "metadata": {},
     "output_type": "execute_result"
    }
   ],
   "source": []
  },
  {
   "cell_type": "code",
   "execution_count": null,
   "metadata": {},
   "outputs": [],
   "source": []
  }
 ],
 "metadata": {
  "kernelspec": {
   "display_name": "practicePython",
   "language": "python",
   "name": "python3"
  },
  "language_info": {
   "codemirror_mode": {
    "name": "ipython",
    "version": 3
   },
   "file_extension": ".py",
   "mimetype": "text/x-python",
   "name": "python",
   "nbconvert_exporter": "python",
   "pygments_lexer": "ipython3",
   "version": "3.8.20"
  }
 },
 "nbformat": 4,
 "nbformat_minor": 2
}
